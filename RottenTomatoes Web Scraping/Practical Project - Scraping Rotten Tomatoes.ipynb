{
 "cells": [
  {
   "cell_type": "markdown",
   "id": "875ad5ca",
   "metadata": {},
   "source": [
    "# Set-Up"
   ]
  },
  {
   "cell_type": "code",
   "execution_count": 1,
   "id": "f7cbb650",
   "metadata": {},
   "outputs": [],
   "source": [
    "# Import necessary packages\n",
    "import requests\n",
    "from bs4 import BeautifulSoup"
   ]
  },
  {
   "cell_type": "code",
   "execution_count": 2,
   "id": "28fa1525",
   "metadata": {},
   "outputs": [],
   "source": [
    "# Define the URL of the site\n",
    "base_site = \"https://editorial.rottentomatoes.com/guide/140-essential-action-movies-to-watch-now/\""
   ]
  },
  {
   "cell_type": "code",
   "execution_count": 3,
   "id": "6349f432",
   "metadata": {},
   "outputs": [
    {
     "data": {
      "text/plain": [
       "200"
      ]
     },
     "execution_count": 3,
     "metadata": {},
     "output_type": "execute_result"
    }
   ],
   "source": [
    "# Sending a request to the webpage\n",
    "response = requests.get(base_site)\n",
    "response.status_code"
   ]
  },
  {
   "cell_type": "code",
   "execution_count": 4,
   "id": "64b73c3c",
   "metadata": {},
   "outputs": [],
   "source": [
    "# Get the HTML from the webpage\n",
    "html = response.content"
   ]
  },
  {
   "cell_type": "code",
   "execution_count": 5,
   "id": "61e56fd5",
   "metadata": {},
   "outputs": [],
   "source": [
    "# Convert the HTML into a soup\n",
    "soup = BeautifulSoup(html,\"lxml\")"
   ]
  },
  {
   "cell_type": "code",
   "execution_count": 6,
   "id": "5d939a15",
   "metadata": {},
   "outputs": [],
   "source": [
    "# Exporting the HTML to a file (to check for parsing issues)\n",
    "with open ('Rotten-Tomatoes-LXML-Parser.html','wb') as file:\n",
    "    file.write(soup.prettify('utf-8'))"
   ]
  },
  {
   "cell_type": "markdown",
   "id": "48dcc914",
   "metadata": {},
   "source": [
    "## Obtaining the elements containing relevant data"
   ]
  },
  {
   "cell_type": "code",
   "execution_count": 7,
   "id": "65bdc0ba",
   "metadata": {},
   "outputs": [],
   "source": [
    "divs = soup.find_all('div', {\"class\":\"col-sm-18 col-full-xs countdown-item-content\"})"
   ]
  },
  {
   "cell_type": "code",
   "execution_count": 8,
   "id": "a09a9f8a",
   "metadata": {},
   "outputs": [
    {
     "name": "stdout",
     "output_type": "stream",
     "text": [
      "<div class=\"col-sm-18 col-full-xs countdown-item-content\">\n",
      " <div class=\"row countdown-item-title-bar\">\n",
      "  <div class=\"col-sm-20 col-full-xs\" style=\"height: 100%;\">\n",
      "   <div class=\"article_movie_title\" style=\"float: left;\">\n",
      "    <div>\n",
      "     <h2>\n",
      "      <a href=\"https://www.rottentomatoes.com/m/1018009-running_scared\">\n",
      "       Running Scared\n",
      "      </a>\n",
      "      <span class=\"subtle start-year\">\n",
      "       (1986)\n",
      "      </span>\n",
      "      <span class=\"icon tiny rotten\" title=\"Rotten\">\n",
      "      </span>\n",
      "      <span class=\"tMeterScore\">\n",
      "       57%\n",
      "      </span>\n",
      "     </h2>\n",
      "    </div>\n",
      "   </div>\n",
      "  </div>\n",
      "  <div class=\"col-sm-4 col-full-xs\" style=\"height: 100%;\">\n",
      "   <div class=\"countdown-index\">\n",
      "    #140\n",
      "   </div>\n",
      "  </div>\n",
      " </div>\n",
      " <div class=\"row countdown-item-details\">\n",
      "  <div class=\"col-sm-24\">\n",
      "   <div class=\"info countdown-adjusted-score\">\n",
      "    <span class=\"descriptor\">\n",
      "     Adjusted Score:\n",
      "    </span>\n",
      "    58276%\n",
      "    <span class=\"glyphicon glyphicon-question-sign\" data-html=\"true\" data-original-title=\"The Adjusted Score comes from a weighted formula (Bayesian) that we use that accounts for variation in the number of reviews per movie.\" data-placement=\"top\" data-toggle=\"tooltip\" rel=\"tooltip\" title=\"\">\n",
      "    </span>\n",
      "   </div>\n",
      "   <div class=\"info critics-consensus\">\n",
      "    <span class=\"descriptor\">\n",
      "     Critics Consensus:\n",
      "    </span>\n",
      "    <em>\n",
      "     Running Scared\n",
      "    </em>\n",
      "    struggles to strike a consistent balance between violent action and humor, but the chemistry between its well-matched leads keeps things entertaining.\n",
      "   </div>\n",
      "   <div class=\"info synopsis\">\n",
      "    <span class=\"descriptor\">\n",
      "     Synopsis:\n",
      "    </span>\n",
      "    Ray and Danny (Gregory Hines, Billy Crystal) are two Chicago police detectives hot on the trail of drug kingpin Julio...\n",
      "    <a class=\"\" data-pageheader=\"\" href=\"https://www.rottentomatoes.com/m/1018009-running_scared\" target=\"_top\">\n",
      "     [More]\n",
      "    </a>\n",
      "   </div>\n",
      "   <div class=\"info cast\">\n",
      "    <span class=\"descriptor\">\n",
      "     Starring:\n",
      "    </span>\n",
      "    <a class=\"\" href=\"//www.rottentomatoes.com/celebrity/gregory_hines\">\n",
      "     Gregory Hines\n",
      "    </a>\n",
      "    ,\n",
      "    <a class=\"\" href=\"//www.rottentomatoes.com/celebrity/billy_crystal\">\n",
      "     Billy Crystal\n",
      "    </a>\n",
      "    ,\n",
      "    <a class=\"\" href=\"//www.rottentomatoes.com/celebrity/jimmy_smits\">\n",
      "     Jimmy Smits\n",
      "    </a>\n",
      "    ,\n",
      "    <a class=\"\" href=\"//www.rottentomatoes.com/celebrity/steven_bauer\">\n",
      "     Steven Bauer\n",
      "    </a>\n",
      "   </div>\n",
      "   <div class=\"info director\">\n",
      "    <span class=\"descriptor\">\n",
      "     Directed By:\n",
      "    </span>\n",
      "    <a class=\"\" href=\"//www.rottentomatoes.com/celebrity/peter_hyams\">\n",
      "     Peter Hyams\n",
      "    </a>\n",
      "   </div>\n",
      "  </div>\n",
      " </div>\n",
      "</div>\n",
      "\n"
     ]
    }
   ],
   "source": [
    "print(divs[0].prettify()) # Each of these divs contain all the relevant information per movie"
   ]
  },
  {
   "cell_type": "markdown",
   "id": "966bdde8",
   "metadata": {},
   "source": [
    "# Extracting the Title, Year, and Score of each movie"
   ]
  },
  {
   "cell_type": "code",
   "execution_count": 9,
   "id": "5a6f3991",
   "metadata": {},
   "outputs": [],
   "source": [
    "headings = [div.find('h2') for div in divs]"
   ]
  },
  {
   "cell_type": "code",
   "execution_count": 10,
   "id": "95ce4b3c",
   "metadata": {},
   "outputs": [
    {
     "data": {
      "text/plain": [
       "<h2><a href=\"https://www.rottentomatoes.com/m/1018009-running_scared\">Running Scared</a> <span class=\"subtle start-year\">(1986)</span> <span class=\"icon tiny rotten\" title=\"Rotten\"></span> <span class=\"tMeterScore\">57%</span></h2>"
      ]
     },
     "execution_count": 10,
     "metadata": {},
     "output_type": "execute_result"
    }
   ],
   "source": [
    "headings[0]"
   ]
  },
  {
   "cell_type": "markdown",
   "id": "5070f2e6",
   "metadata": {},
   "source": [
    "## Title"
   ]
  },
  {
   "cell_type": "code",
   "execution_count": 11,
   "id": "03483f3d",
   "metadata": {},
   "outputs": [],
   "source": [
    "movie_names = [heading.find('a').text for heading in headings]"
   ]
  },
  {
   "cell_type": "code",
   "execution_count": 12,
   "id": "9da9a087",
   "metadata": {},
   "outputs": [
    {
     "data": {
      "text/plain": [
       "140"
      ]
     },
     "execution_count": 12,
     "metadata": {},
     "output_type": "execute_result"
    }
   ],
   "source": [
    "len(movie_names) # 140 movies --> 140 names"
   ]
  },
  {
   "cell_type": "code",
   "execution_count": 13,
   "id": "d820287e",
   "metadata": {},
   "outputs": [
    {
     "data": {
      "text/plain": [
       "['Running Scared',\n",
       " 'Equilibrium',\n",
       " 'Hero',\n",
       " 'Road House',\n",
       " 'Unstoppable',\n",
       " 'Shaft',\n",
       " 'The Villainess',\n",
       " 'Highlander',\n",
       " 'Die Hard 2',\n",
       " 'National Treasure']"
      ]
     },
     "execution_count": 13,
     "metadata": {},
     "output_type": "execute_result"
    }
   ],
   "source": [
    "movie_names[:10]"
   ]
  },
  {
   "cell_type": "code",
   "execution_count": 14,
   "id": "a5faa727",
   "metadata": {},
   "outputs": [],
   "source": [
    "#movie_names"
   ]
  },
  {
   "cell_type": "markdown",
   "id": "67e41ad6",
   "metadata": {},
   "source": [
    "## Year"
   ]
  },
  {
   "cell_type": "code",
   "execution_count": 15,
   "id": "7027dd09",
   "metadata": {},
   "outputs": [],
   "source": [
    "movie_years = [heading.find('span', class_=\"subtle start-year\").text for heading in headings]"
   ]
  },
  {
   "cell_type": "code",
   "execution_count": 16,
   "id": "ebb03de3",
   "metadata": {},
   "outputs": [
    {
     "data": {
      "text/plain": [
       "140"
      ]
     },
     "execution_count": 16,
     "metadata": {},
     "output_type": "execute_result"
    }
   ],
   "source": [
    "len(movie_years) # Correct number of movie years"
   ]
  },
  {
   "cell_type": "code",
   "execution_count": 17,
   "id": "cd89bcf9",
   "metadata": {},
   "outputs": [
    {
     "data": {
      "text/plain": [
       "['(1986)',\n",
       " '(2002)',\n",
       " '(2002)',\n",
       " '(1989)',\n",
       " '(2010)',\n",
       " '(1971)',\n",
       " '(2017)',\n",
       " '(1986)',\n",
       " '(1990)',\n",
       " '(2004)']"
      ]
     },
     "execution_count": 17,
     "metadata": {},
     "output_type": "execute_result"
    }
   ],
   "source": [
    "movie_years[:10] # We need to remove the surrounding parenthesis and change the dtypes to int"
   ]
  },
  {
   "cell_type": "code",
   "execution_count": 18,
   "id": "35b65342",
   "metadata": {},
   "outputs": [
    {
     "data": {
      "text/plain": [
       "['1986',\n",
       " '2002',\n",
       " '2002',\n",
       " '1989',\n",
       " '2010',\n",
       " '1971',\n",
       " '2017',\n",
       " '1986',\n",
       " '1990',\n",
       " '2004']"
      ]
     },
     "execution_count": 18,
     "metadata": {},
     "output_type": "execute_result"
    }
   ],
   "source": [
    "# Removing unwanted parenthesis\n",
    "\n",
    "movie_years = [year.strip('()') for year in movie_years]\n",
    "movie_years[:10]"
   ]
  },
  {
   "cell_type": "code",
   "execution_count": 19,
   "id": "b81f5eaa",
   "metadata": {},
   "outputs": [
    {
     "data": {
      "text/plain": [
       "[1986, 2002, 2002, 1989, 2010, 1971, 2017, 1986, 1990, 2004]"
      ]
     },
     "execution_count": 19,
     "metadata": {},
     "output_type": "execute_result"
    }
   ],
   "source": [
    "# Recasting the years to integer types\n",
    "\n",
    "movie_years = [int(year) for year in movie_years]\n",
    "movie_years[:10]"
   ]
  },
  {
   "cell_type": "code",
   "execution_count": 20,
   "id": "1957a0a8",
   "metadata": {},
   "outputs": [],
   "source": [
    "#movie_years"
   ]
  },
  {
   "cell_type": "markdown",
   "id": "8620f0b6",
   "metadata": {},
   "source": [
    "## Score"
   ]
  },
  {
   "cell_type": "code",
   "execution_count": 21,
   "id": "fb29c894",
   "metadata": {},
   "outputs": [],
   "source": [
    "movie_scores = [heading.find('span', class_=\"tMeterScore\").text for heading in headings]"
   ]
  },
  {
   "cell_type": "code",
   "execution_count": 22,
   "id": "19b8e801",
   "metadata": {},
   "outputs": [
    {
     "data": {
      "text/plain": [
       "140"
      ]
     },
     "execution_count": 22,
     "metadata": {},
     "output_type": "execute_result"
    }
   ],
   "source": [
    "len(movie_scores) # Correct number of movie scores"
   ]
  },
  {
   "cell_type": "code",
   "execution_count": 23,
   "id": "aaf2f6a5",
   "metadata": {},
   "outputs": [
    {
     "data": {
      "text/plain": [
       "['57%', '41%', '94%', '40%', '87%', '88%', '85%', '70%', '69%', '46%']"
      ]
     },
     "execution_count": 23,
     "metadata": {},
     "output_type": "execute_result"
    }
   ],
   "source": [
    "movie_scores[:10] # We should remove the '%' signs and change the dtypes to int again"
   ]
  },
  {
   "cell_type": "code",
   "execution_count": 24,
   "id": "d59a8c77",
   "metadata": {},
   "outputs": [
    {
     "data": {
      "text/plain": [
       "['57', '41', '94', '40', '87', '88', '85', '70', '69', '46']"
      ]
     },
     "execution_count": 24,
     "metadata": {},
     "output_type": "execute_result"
    }
   ],
   "source": [
    "# Removing the % sign from scores\n",
    "\n",
    "movie_scores = [score.strip('%') for score in movie_scores]\n",
    "movie_scores[:10]"
   ]
  },
  {
   "cell_type": "code",
   "execution_count": 25,
   "id": "e32ef776",
   "metadata": {},
   "outputs": [
    {
     "data": {
      "text/plain": [
       "[57, 41, 94, 40, 87, 88, 85, 70, 69, 46]"
      ]
     },
     "execution_count": 25,
     "metadata": {},
     "output_type": "execute_result"
    }
   ],
   "source": [
    "# Recasting the scores as integer types\n",
    "\n",
    "movie_scores = [int(score) for score in movie_scores]\n",
    "movie_scores[:10]"
   ]
  },
  {
   "cell_type": "code",
   "execution_count": 26,
   "id": "24dbb306",
   "metadata": {},
   "outputs": [],
   "source": [
    "#movie_scores"
   ]
  },
  {
   "cell_type": "markdown",
   "id": "c9ce600c",
   "metadata": {},
   "source": [
    "# Extracting the rest of the information"
   ]
  },
  {
   "cell_type": "markdown",
   "id": "26ec05c1",
   "metadata": {},
   "source": [
    "## Critics Consensus"
   ]
  },
  {
   "cell_type": "code",
   "execution_count": 27,
   "id": "39cbbb00",
   "metadata": {},
   "outputs": [],
   "source": [
    "consensus = [div.find('div', {\"class\":\"info critics-consensus\"}) for div in divs]"
   ]
  },
  {
   "cell_type": "code",
   "execution_count": 28,
   "id": "e081ed43",
   "metadata": {},
   "outputs": [
    {
     "data": {
      "text/plain": [
       "140"
      ]
     },
     "execution_count": 28,
     "metadata": {},
     "output_type": "execute_result"
    }
   ],
   "source": [
    "len(consensus) # Correct number of movie consensus"
   ]
  },
  {
   "cell_type": "code",
   "execution_count": 29,
   "id": "67a69b88",
   "metadata": {},
   "outputs": [
    {
     "data": {
      "text/plain": [
       "<div class=\"info critics-consensus\"><span class=\"descriptor\">Critics Consensus:</span> <em>Running Scared</em> struggles to strike a consistent balance between violent action and humor, but the chemistry between its well-matched leads keeps things entertaining.</div>"
      ]
     },
     "execution_count": 29,
     "metadata": {},
     "output_type": "execute_result"
    }
   ],
   "source": [
    "consensus[0] # We need to extract only the text from these div elements"
   ]
  },
  {
   "cell_type": "code",
   "execution_count": 30,
   "id": "51d97abf",
   "metadata": {},
   "outputs": [
    {
     "data": {
      "text/plain": [
       "'Critics Consensus: Running Scared struggles to strike a consistent balance between violent action and humor, but the chemistry between its well-matched leads keeps things entertaining.'"
      ]
     },
     "execution_count": 30,
     "metadata": {},
     "output_type": "execute_result"
    }
   ],
   "source": [
    "consensus[0].text # We don't need \"Critics Consensus: \" in front of the text"
   ]
  },
  {
   "cell_type": "code",
   "execution_count": 31,
   "id": "2e579cf2",
   "metadata": {},
   "outputs": [],
   "source": [
    "common_phrase = 'Critics Consensus: '\n",
    "common_len = len(common_phrase)"
   ]
  },
  {
   "cell_type": "code",
   "execution_count": 32,
   "id": "e2f10f08",
   "metadata": {},
   "outputs": [],
   "source": [
    "consensus_text = [con.text[common_len:] if con.text.startswith(common_phrase) else con.text for con in consensus]"
   ]
  },
  {
   "cell_type": "code",
   "execution_count": 33,
   "id": "52502cac",
   "metadata": {},
   "outputs": [
    {
     "data": {
      "text/plain": [
       "'Running Scared struggles to strike a consistent balance between violent action and humor, but the chemistry between its well-matched leads keeps things entertaining.'"
      ]
     },
     "execution_count": 33,
     "metadata": {},
     "output_type": "execute_result"
    }
   ],
   "source": [
    "consensus_text[0] # Looks good"
   ]
  },
  {
   "cell_type": "code",
   "execution_count": 34,
   "id": "9247fd91",
   "metadata": {},
   "outputs": [],
   "source": [
    "#consensus_text"
   ]
  },
  {
   "cell_type": "markdown",
   "id": "1bcbc542",
   "metadata": {},
   "source": [
    "## Directors"
   ]
  },
  {
   "cell_type": "code",
   "execution_count": 35,
   "id": "a984a82f",
   "metadata": {},
   "outputs": [],
   "source": [
    "directors_info = [div.find('div', {\"class\":\"info director\"}) for div in divs]"
   ]
  },
  {
   "cell_type": "code",
   "execution_count": 36,
   "id": "6fc63e96",
   "metadata": {},
   "outputs": [
    {
     "data": {
      "text/plain": [
       "140"
      ]
     },
     "execution_count": 36,
     "metadata": {},
     "output_type": "execute_result"
    }
   ],
   "source": [
    "len(directors_info) # Correct number of director divs"
   ]
  },
  {
   "cell_type": "code",
   "execution_count": 37,
   "id": "c1746eaa",
   "metadata": {},
   "outputs": [
    {
     "data": {
      "text/plain": [
       "<div class=\"info director\">\n",
       "<span class=\"descriptor\">Directed By:</span> <a class=\"\" href=\"//www.rottentomatoes.com/celebrity/peter_hyams\">Peter Hyams</a></div>"
      ]
     },
     "execution_count": 37,
     "metadata": {},
     "output_type": "execute_result"
    }
   ],
   "source": [
    "directors_info[0] # We need to extract only the text again"
   ]
  },
  {
   "cell_type": "code",
   "execution_count": 38,
   "id": "e1da0ad0",
   "metadata": {},
   "outputs": [
    {
     "data": {
      "text/plain": [
       "[<a class=\"\" href=\"//www.rottentomatoes.com/celebrity/peter_hyams\">Peter Hyams</a>]"
      ]
     },
     "execution_count": 38,
     "metadata": {},
     "output_type": "execute_result"
    }
   ],
   "source": [
    "director_links = directors_info[0].find_all('a') # We use find_all because some movies have multiple directors\n",
    "director_links"
   ]
  },
  {
   "cell_type": "code",
   "execution_count": 39,
   "id": "7c527943",
   "metadata": {},
   "outputs": [
    {
     "data": {
      "text/plain": [
       "['Peter Hyams']"
      ]
     },
     "execution_count": 39,
     "metadata": {},
     "output_type": "execute_result"
    }
   ],
   "source": [
    "director_names = [link.text for link in director_links]\n",
    "director_names"
   ]
  },
  {
   "cell_type": "code",
   "execution_count": 40,
   "id": "05e983e0",
   "metadata": {},
   "outputs": [
    {
     "data": {
      "text/plain": [
       "'Peter Hyams'"
      ]
     },
     "execution_count": 40,
     "metadata": {},
     "output_type": "execute_result"
    }
   ],
   "source": [
    "# We will combine all directors of the same movie into one string\n",
    "directors = \", \".join(director_names) \n",
    "directors"
   ]
  },
  {
   "cell_type": "code",
   "execution_count": 41,
   "id": "af4cee66",
   "metadata": {},
   "outputs": [],
   "source": [
    "# Using a for-loop to create the list of directors\n",
    "\n",
    "directors = []\n",
    "for d in directors_info:\n",
    "    director_links = d.find_all('a')\n",
    "    director_names = [link.text for link in director_links]\n",
    "    result = \", \".join(director_names)\n",
    "    \n",
    "    directors.append(result)"
   ]
  },
  {
   "cell_type": "code",
   "execution_count": 42,
   "id": "15c23069",
   "metadata": {},
   "outputs": [
    {
     "data": {
      "text/plain": [
       "140"
      ]
     },
     "execution_count": 42,
     "metadata": {},
     "output_type": "execute_result"
    }
   ],
   "source": [
    "len(directors)"
   ]
  },
  {
   "cell_type": "code",
   "execution_count": 43,
   "id": "dabd0f4e",
   "metadata": {},
   "outputs": [],
   "source": [
    "# Creating the same list with list comprehension instead\n",
    "\n",
    "directors = [\", \".join([link.text for link in d.find_all('a')]) for d in directors_info]"
   ]
  },
  {
   "cell_type": "code",
   "execution_count": 44,
   "id": "ea601728",
   "metadata": {},
   "outputs": [],
   "source": [
    "#directors"
   ]
  },
  {
   "cell_type": "markdown",
   "id": "802cba08",
   "metadata": {},
   "source": [
    "## Cast Info"
   ]
  },
  {
   "cell_type": "code",
   "execution_count": 45,
   "id": "9209652b",
   "metadata": {},
   "outputs": [],
   "source": [
    "cast_info = [div.find('div', {\"class\":\"info cast\"}) for div in divs]"
   ]
  },
  {
   "cell_type": "code",
   "execution_count": 46,
   "id": "552ed3e4",
   "metadata": {},
   "outputs": [
    {
     "data": {
      "text/plain": [
       "140"
      ]
     },
     "execution_count": 46,
     "metadata": {},
     "output_type": "execute_result"
    }
   ],
   "source": [
    "len(cast_info) # Correct number of cast divs"
   ]
  },
  {
   "cell_type": "code",
   "execution_count": 47,
   "id": "0d7ae006",
   "metadata": {},
   "outputs": [
    {
     "data": {
      "text/plain": [
       "<div class=\"info cast\">\n",
       "<span class=\"descriptor\">Starring:</span> <a class=\"\" href=\"//www.rottentomatoes.com/celebrity/gregory_hines\">Gregory Hines</a>, <a class=\"\" href=\"//www.rottentomatoes.com/celebrity/billy_crystal\">Billy Crystal</a>, <a class=\"\" href=\"//www.rottentomatoes.com/celebrity/jimmy_smits\">Jimmy Smits</a>, <a class=\"\" href=\"//www.rottentomatoes.com/celebrity/steven_bauer\">Steven Bauer</a></div>"
      ]
     },
     "execution_count": 47,
     "metadata": {},
     "output_type": "execute_result"
    }
   ],
   "source": [
    "cast_info[0] # We should follow the same steps we used for creating the list of directors"
   ]
  },
  {
   "cell_type": "code",
   "execution_count": 48,
   "id": "9d9fb4e7",
   "metadata": {},
   "outputs": [
    {
     "data": {
      "text/plain": [
       "<a class=\"\" href=\"//www.rottentomatoes.com/celebrity/gregory_hines\">Gregory Hines</a>"
      ]
     },
     "execution_count": 48,
     "metadata": {},
     "output_type": "execute_result"
    }
   ],
   "source": [
    "cast_links = cast_info[0].find_all('a')\n",
    "cast_links[0]"
   ]
  },
  {
   "cell_type": "code",
   "execution_count": 49,
   "id": "2f19b49b",
   "metadata": {},
   "outputs": [
    {
     "data": {
      "text/plain": [
       "'Gregory Hines'"
      ]
     },
     "execution_count": 49,
     "metadata": {},
     "output_type": "execute_result"
    }
   ],
   "source": [
    "cast_names = [link.text for link in cast_links]\n",
    "cast_names[0]"
   ]
  },
  {
   "cell_type": "code",
   "execution_count": 50,
   "id": "17fac751",
   "metadata": {},
   "outputs": [
    {
     "data": {
      "text/plain": [
       "'Gregory Hines, Billy Crystal, Jimmy Smits, Steven Bauer'"
      ]
     },
     "execution_count": 50,
     "metadata": {},
     "output_type": "execute_result"
    }
   ],
   "source": [
    "cast = \", \".join(cast_names)\n",
    "cast"
   ]
  },
  {
   "cell_type": "code",
   "execution_count": 51,
   "id": "127195fd",
   "metadata": {},
   "outputs": [],
   "source": [
    "# Creating the list of cast members using a for-loop\n",
    "\n",
    "cast = []\n",
    "for c in cast_info:\n",
    "    cast_links = c.find_all('a')\n",
    "    cast_names = [link.text for link in cast_links]\n",
    "    result = \", \".join(cast_names)\n",
    "    \n",
    "    cast.append(result)"
   ]
  },
  {
   "cell_type": "code",
   "execution_count": 52,
   "id": "ed98fe2c",
   "metadata": {},
   "outputs": [],
   "source": [
    "#cast"
   ]
  },
  {
   "cell_type": "code",
   "execution_count": 53,
   "id": "b9da9a4d",
   "metadata": {},
   "outputs": [],
   "source": [
    "# Creating the same list using list comprehension\n",
    "\n",
    "cast = [\", \".join([link.text for link in c.find_all('a')]) for c in cast_info]"
   ]
  },
  {
   "cell_type": "code",
   "execution_count": 54,
   "id": "bd4adb65",
   "metadata": {},
   "outputs": [],
   "source": [
    "#cast"
   ]
  },
  {
   "cell_type": "markdown",
   "id": "14526d6b",
   "metadata": {},
   "source": [
    "## Adjusted Score"
   ]
  },
  {
   "cell_type": "code",
   "execution_count": 55,
   "id": "bceb96dd",
   "metadata": {},
   "outputs": [],
   "source": [
    "adjusted_score_info = [div.find('div', {\"class\":\"info countdown-adjusted-score\"}) for div in divs]"
   ]
  },
  {
   "cell_type": "code",
   "execution_count": 56,
   "id": "e079115e",
   "metadata": {},
   "outputs": [
    {
     "data": {
      "text/plain": [
       "140"
      ]
     },
     "execution_count": 56,
     "metadata": {},
     "output_type": "execute_result"
    }
   ],
   "source": [
    "len(adjusted_score_info) # Correct number of adjusted scores"
   ]
  },
  {
   "cell_type": "code",
   "execution_count": 57,
   "id": "5197b707",
   "metadata": {},
   "outputs": [
    {
     "data": {
      "text/plain": [
       "<div class=\"info countdown-adjusted-score\"><span class=\"descriptor\">Adjusted Score: </span>58276% <span class=\"glyphicon glyphicon-question-sign\" data-html=\"true\" data-original-title=\"The Adjusted Score comes from a weighted formula (Bayesian) that we use that accounts for variation in the number of reviews per movie.\" data-placement=\"top\" data-toggle=\"tooltip\" rel=\"tooltip\" title=\"\"></span></div>"
      ]
     },
     "execution_count": 57,
     "metadata": {},
     "output_type": "execute_result"
    }
   ],
   "source": [
    "adjusted_score_info[0] # Once again we only want the text from these divs"
   ]
  },
  {
   "cell_type": "code",
   "execution_count": 58,
   "id": "ff9519ab",
   "metadata": {},
   "outputs": [
    {
     "data": {
      "text/plain": [
       "'Adjusted Score: 58276% '"
      ]
     },
     "execution_count": 58,
     "metadata": {},
     "output_type": "execute_result"
    }
   ],
   "source": [
    "adjusted_text = adjusted_score_info[0].text # We should get rid of all unnecessary text and convert to floats\n",
    "adjusted_text"
   ]
  },
  {
   "cell_type": "code",
   "execution_count": 59,
   "id": "b933bfac",
   "metadata": {},
   "outputs": [
    {
     "data": {
      "text/plain": [
       "16"
      ]
     },
     "execution_count": 59,
     "metadata": {},
     "output_type": "execute_result"
    }
   ],
   "source": [
    "common_adjusted_phrase = 'Adjusted Score: '\n",
    "common_adjusted_len = len(common_adjusted_phrase)\n",
    "common_adjusted_len"
   ]
  },
  {
   "cell_type": "code",
   "execution_count": 60,
   "id": "ecfaa1c8",
   "metadata": {},
   "outputs": [
    {
     "data": {
      "text/plain": [
       "58.276"
      ]
     },
     "execution_count": 60,
     "metadata": {},
     "output_type": "execute_result"
    }
   ],
   "source": [
    "adjusted_score = adjusted_text[common_adjusted_len:]\n",
    "int(adjusted_score.strip('% '))/1000"
   ]
  },
  {
   "cell_type": "code",
   "execution_count": 61,
   "id": "1e769821",
   "metadata": {},
   "outputs": [],
   "source": [
    "# Using a for-loop to create the list of adjusted scores\n",
    "\n",
    "adjusted_scores = []\n",
    "common_adjusted_phrase = 'Adjusted Score: '\n",
    "common_adjusted_len = len(common_adjusted_phrase)\n",
    "for a in adjusted_score_info:\n",
    "    adjusted_text = a.text\n",
    "    if (adjusted_text.startswith(common_adjusted_phrase)):\n",
    "        adjusted_score = adjusted_text[common_adjusted_len:]\n",
    "    result = int(adjusted_score.strip('% '))/1000\n",
    "    \n",
    "    adjusted_scores.append(result)    "
   ]
  },
  {
   "cell_type": "code",
   "execution_count": 62,
   "id": "a6d7ca8f",
   "metadata": {},
   "outputs": [
    {
     "data": {
      "text/plain": [
       "[58.276,\n",
       " 42.451,\n",
       " 101.761,\n",
       " 43.372,\n",
       " 93.228,\n",
       " 91.987,\n",
       " 90.83,\n",
       " 73.009,\n",
       " 72.566,\n",
       " 51.397]"
      ]
     },
     "execution_count": 62,
     "metadata": {},
     "output_type": "execute_result"
    }
   ],
   "source": [
    "adjusted_scores[:10]"
   ]
  },
  {
   "cell_type": "code",
   "execution_count": 63,
   "id": "ca4d9ea1",
   "metadata": {},
   "outputs": [],
   "source": [
    "#adjusted_scores"
   ]
  },
  {
   "cell_type": "markdown",
   "id": "15668dd0",
   "metadata": {},
   "source": [
    "## Synopsis"
   ]
  },
  {
   "cell_type": "code",
   "execution_count": 64,
   "id": "5a0a8b31",
   "metadata": {},
   "outputs": [],
   "source": [
    "synopsis_info = [div.find('div', {\"class\":\"info synopsis\"}) for div in divs]"
   ]
  },
  {
   "cell_type": "code",
   "execution_count": 65,
   "id": "4bfd2e3e",
   "metadata": {},
   "outputs": [
    {
     "data": {
      "text/plain": [
       "140"
      ]
     },
     "execution_count": 65,
     "metadata": {},
     "output_type": "execute_result"
    }
   ],
   "source": [
    "len(synopsis_info) # Correct number of synopses"
   ]
  },
  {
   "cell_type": "code",
   "execution_count": 66,
   "id": "310bd9dc",
   "metadata": {},
   "outputs": [
    {
     "data": {
      "text/plain": [
       "<div class=\"info synopsis\"><span class=\"descriptor\">Synopsis:</span> Ray and Danny (Gregory Hines, Billy Crystal) are two Chicago police detectives hot on the trail of drug kingpin Julio...<a class=\"\" data-pageheader=\"\" href=\"https://www.rottentomatoes.com/m/1018009-running_scared\" target=\"_top\"> [More]</a></div>"
      ]
     },
     "execution_count": 66,
     "metadata": {},
     "output_type": "execute_result"
    }
   ],
   "source": [
    "synopsis_info[0] # We only need the text"
   ]
  },
  {
   "cell_type": "code",
   "execution_count": 67,
   "id": "62c2625d",
   "metadata": {},
   "outputs": [
    {
     "data": {
      "text/plain": [
       "'Ray and Danny (Gregory Hines, Billy Crystal) are two Chicago police detectives hot on the trail of drug kingpin Julio... [More]'"
      ]
     },
     "execution_count": 67,
     "metadata": {},
     "output_type": "execute_result"
    }
   ],
   "source": [
    "synopsis_info[0].text[len('Synopsis: '):] # Looks good"
   ]
  },
  {
   "cell_type": "code",
   "execution_count": 68,
   "id": "e3198adf",
   "metadata": {},
   "outputs": [
    {
     "data": {
      "text/plain": [
       "10"
      ]
     },
     "execution_count": 68,
     "metadata": {},
     "output_type": "execute_result"
    }
   ],
   "source": [
    "common_synopsis_phrase = 'Synopsis: '\n",
    "common_synopsis_len = len(common_synopsis_phrase)\n",
    "common_synopsis_len"
   ]
  },
  {
   "cell_type": "code",
   "execution_count": 69,
   "id": "4b23daa4",
   "metadata": {},
   "outputs": [],
   "source": [
    "# List-comprehension\n",
    "\n",
    "synopsis = [s.text[common_synopsis_len:] if s.text.startswith(common_synopsis_phrase) else s.text for s in synopsis_info]"
   ]
  },
  {
   "cell_type": "code",
   "execution_count": 70,
   "id": "4116eea1",
   "metadata": {},
   "outputs": [
    {
     "data": {
      "text/plain": [
       "['Ray and Danny (Gregory Hines, Billy Crystal) are two Chicago police detectives hot on the trail of drug kingpin Julio... [More]',\n",
       " 'In a futuristic world, a regime has eliminated war by suppressing emotions: books, art and music are strictly forbidden and... [More]',\n",
       " 'In this visually arresting martial arts epic set in ancient China, an unnamed fighter (Jet Li) is being honored for... [More]',\n",
       " 'The Double Deuce is the meanest, loudest and rowdiest bar south of the Mason-Dixon Line, and Dalton (Patrick Swayze) has... [More]',\n",
       " 'When a massive, unmanned locomotive roars out of control, the threat is more ominous than just a derailment. The train... [More]']"
      ]
     },
     "execution_count": 70,
     "metadata": {},
     "output_type": "execute_result"
    }
   ],
   "source": [
    "synopsis[:5]"
   ]
  },
  {
   "cell_type": "code",
   "execution_count": 71,
   "id": "46b4dc07",
   "metadata": {},
   "outputs": [],
   "source": [
    "#synopsis"
   ]
  },
  {
   "cell_type": "markdown",
   "id": "b33ccd82",
   "metadata": {},
   "source": [
    "# Creating the DataFrame"
   ]
  },
  {
   "cell_type": "code",
   "execution_count": 72,
   "id": "709bb322",
   "metadata": {},
   "outputs": [],
   "source": [
    "import pandas as pd\n",
    "rotten_tomato_scrape = pd.DataFrame()"
   ]
  },
  {
   "cell_type": "code",
   "execution_count": 73,
   "id": "7cc373e8",
   "metadata": {},
   "outputs": [],
   "source": [
    "rotten_tomato_scrape[\"Movie Name\"] = movie_names\n",
    "rotten_tomato_scrape[\"Year\"] = movie_years\n",
    "rotten_tomato_scrape[\"Score\"] = movie_scores\n",
    "rotten_tomato_scrape[\"Critics Consensus\"] = consensus_text\n",
    "rotten_tomato_scrape[\"Directors\"] = directors\n",
    "rotten_tomato_scrape[\"Cast\"] = cast\n",
    "rotten_tomato_scrape[\"Adjusted Score\"] = adjusted_scores\n",
    "rotten_tomato_scrape[\"Synopsis\"] = synopsis"
   ]
  },
  {
   "cell_type": "code",
   "execution_count": 74,
   "id": "d219fd7a",
   "metadata": {},
   "outputs": [
    {
     "data": {
      "text/html": [
       "<div>\n",
       "<style scoped>\n",
       "    .dataframe tbody tr th:only-of-type {\n",
       "        vertical-align: middle;\n",
       "    }\n",
       "\n",
       "    .dataframe tbody tr th {\n",
       "        vertical-align: top;\n",
       "    }\n",
       "\n",
       "    .dataframe thead th {\n",
       "        text-align: right;\n",
       "    }\n",
       "</style>\n",
       "<table border=\"1\" class=\"dataframe\">\n",
       "  <thead>\n",
       "    <tr style=\"text-align: right;\">\n",
       "      <th></th>\n",
       "      <th>Movie Name</th>\n",
       "      <th>Year</th>\n",
       "      <th>Score</th>\n",
       "      <th>Critics Consensus</th>\n",
       "      <th>Directors</th>\n",
       "      <th>Cast</th>\n",
       "      <th>Adjusted Score</th>\n",
       "      <th>Synopsis</th>\n",
       "    </tr>\n",
       "  </thead>\n",
       "  <tbody>\n",
       "    <tr>\n",
       "      <th>0</th>\n",
       "      <td>Running Scared</td>\n",
       "      <td>1986</td>\n",
       "      <td>57</td>\n",
       "      <td>Running Scared struggles to strike a consisten...</td>\n",
       "      <td>Peter Hyams</td>\n",
       "      <td>Gregory Hines, Billy Crystal, Jimmy Smits, Ste...</td>\n",
       "      <td>58.276</td>\n",
       "      <td>Ray and Danny (Gregory Hines, Billy Crystal) a...</td>\n",
       "    </tr>\n",
       "    <tr>\n",
       "      <th>1</th>\n",
       "      <td>Equilibrium</td>\n",
       "      <td>2002</td>\n",
       "      <td>41</td>\n",
       "      <td>Equilibrium is a reheated mishmash of other sc...</td>\n",
       "      <td>Kurt Wimmer</td>\n",
       "      <td>Christian Bale, Emily Watson, Taye Diggs, Angu...</td>\n",
       "      <td>42.451</td>\n",
       "      <td>In a futuristic world, a regime has eliminated...</td>\n",
       "    </tr>\n",
       "    <tr>\n",
       "      <th>2</th>\n",
       "      <td>Hero</td>\n",
       "      <td>2002</td>\n",
       "      <td>94</td>\n",
       "      <td>With death-defying action sequences and epic h...</td>\n",
       "      <td>Zhang Yimou</td>\n",
       "      <td>Jet Li, Tony Leung Chiu Wai, Maggie Cheung Man...</td>\n",
       "      <td>101.761</td>\n",
       "      <td>In this visually arresting martial arts epic s...</td>\n",
       "    </tr>\n",
       "    <tr>\n",
       "      <th>3</th>\n",
       "      <td>Road House</td>\n",
       "      <td>1989</td>\n",
       "      <td>40</td>\n",
       "      <td>Whether Road House is simply bad or so bad it'...</td>\n",
       "      <td>Rowdy Herrington</td>\n",
       "      <td>Patrick Swayze, Kelly Lynch, Sam Elliott, Ben ...</td>\n",
       "      <td>43.372</td>\n",
       "      <td>The Double Deuce is the meanest, loudest and r...</td>\n",
       "    </tr>\n",
       "    <tr>\n",
       "      <th>4</th>\n",
       "      <td>Unstoppable</td>\n",
       "      <td>2010</td>\n",
       "      <td>87</td>\n",
       "      <td>As fast, loud, and relentless as the train at ...</td>\n",
       "      <td>Tony Scott</td>\n",
       "      <td>Denzel Washington, Chris Pine, Rosario Dawson,...</td>\n",
       "      <td>93.228</td>\n",
       "      <td>When a massive, unmanned locomotive roars out ...</td>\n",
       "    </tr>\n",
       "    <tr>\n",
       "      <th>...</th>\n",
       "      <td>...</td>\n",
       "      <td>...</td>\n",
       "      <td>...</td>\n",
       "      <td>...</td>\n",
       "      <td>...</td>\n",
       "      <td>...</td>\n",
       "      <td>...</td>\n",
       "      <td>...</td>\n",
       "    </tr>\n",
       "    <tr>\n",
       "      <th>135</th>\n",
       "      <td>Hard-Boiled</td>\n",
       "      <td>1992</td>\n",
       "      <td>94</td>\n",
       "      <td>Boasting impactful action as well as surprisin...</td>\n",
       "      <td>John Woo</td>\n",
       "      <td>Chow Yun-Fat, Bowie Lam, Philip Chan, Tony Leu...</td>\n",
       "      <td>96.488</td>\n",
       "      <td>A cop who loses his partner in a shoot-out wit...</td>\n",
       "    </tr>\n",
       "    <tr>\n",
       "      <th>136</th>\n",
       "      <td>The Matrix</td>\n",
       "      <td>1999</td>\n",
       "      <td>88</td>\n",
       "      <td>Thanks to the Wachowskis' imaginative vision, ...</td>\n",
       "      <td>Andy Wachowski, Larry Wachowski</td>\n",
       "      <td>Keanu Reeves, Laurence Fishburne, Carrie-Anne ...</td>\n",
       "      <td>94.059</td>\n",
       "      <td>Neo (Keanu Reeves) believes that Morpheus (Lau...</td>\n",
       "    </tr>\n",
       "    <tr>\n",
       "      <th>137</th>\n",
       "      <td>Terminator 2: Judgment Day</td>\n",
       "      <td>1991</td>\n",
       "      <td>93</td>\n",
       "      <td>T2 features thrilling action sequences and eye...</td>\n",
       "      <td>James Cameron</td>\n",
       "      <td>Arnold Schwarzenegger, Linda Hamilton, Edward ...</td>\n",
       "      <td>98.529</td>\n",
       "      <td>In this sequel set eleven years after \"The Ter...</td>\n",
       "    </tr>\n",
       "    <tr>\n",
       "      <th>138</th>\n",
       "      <td>Die Hard</td>\n",
       "      <td>1988</td>\n",
       "      <td>94</td>\n",
       "      <td>Its many imitators (and sequels) have never co...</td>\n",
       "      <td>John McTiernan</td>\n",
       "      <td>Bruce Willis, Alan Rickman, Bonnie Bedelia, Re...</td>\n",
       "      <td>99.270</td>\n",
       "      <td>New York City policeman John McClane (Bruce Wi...</td>\n",
       "    </tr>\n",
       "    <tr>\n",
       "      <th>139</th>\n",
       "      <td>Mad Max: Fury Road</td>\n",
       "      <td>2015</td>\n",
       "      <td>97</td>\n",
       "      <td>With exhilarating action and a surprising amou...</td>\n",
       "      <td>George Miller</td>\n",
       "      <td>Tom Hardy, Charlize Theron, Nicholas Hoult, Hu...</td>\n",
       "      <td>114.430</td>\n",
       "      <td>Years after the collapse of civilization, the ...</td>\n",
       "    </tr>\n",
       "  </tbody>\n",
       "</table>\n",
       "<p>140 rows × 8 columns</p>\n",
       "</div>"
      ],
      "text/plain": [
       "                     Movie Name  Year  Score  \\\n",
       "0                Running Scared  1986     57   \n",
       "1                   Equilibrium  2002     41   \n",
       "2                          Hero  2002     94   \n",
       "3                    Road House  1989     40   \n",
       "4                   Unstoppable  2010     87   \n",
       "..                          ...   ...    ...   \n",
       "135                 Hard-Boiled  1992     94   \n",
       "136                  The Matrix  1999     88   \n",
       "137  Terminator 2: Judgment Day  1991     93   \n",
       "138                    Die Hard  1988     94   \n",
       "139          Mad Max: Fury Road  2015     97   \n",
       "\n",
       "                                     Critics Consensus  \\\n",
       "0    Running Scared struggles to strike a consisten...   \n",
       "1    Equilibrium is a reheated mishmash of other sc...   \n",
       "2    With death-defying action sequences and epic h...   \n",
       "3    Whether Road House is simply bad or so bad it'...   \n",
       "4    As fast, loud, and relentless as the train at ...   \n",
       "..                                                 ...   \n",
       "135  Boasting impactful action as well as surprisin...   \n",
       "136  Thanks to the Wachowskis' imaginative vision, ...   \n",
       "137  T2 features thrilling action sequences and eye...   \n",
       "138  Its many imitators (and sequels) have never co...   \n",
       "139  With exhilarating action and a surprising amou...   \n",
       "\n",
       "                           Directors  \\\n",
       "0                        Peter Hyams   \n",
       "1                        Kurt Wimmer   \n",
       "2                        Zhang Yimou   \n",
       "3                   Rowdy Herrington   \n",
       "4                         Tony Scott   \n",
       "..                               ...   \n",
       "135                         John Woo   \n",
       "136  Andy Wachowski, Larry Wachowski   \n",
       "137                    James Cameron   \n",
       "138                   John McTiernan   \n",
       "139                    George Miller   \n",
       "\n",
       "                                                  Cast  Adjusted Score  \\\n",
       "0    Gregory Hines, Billy Crystal, Jimmy Smits, Ste...          58.276   \n",
       "1    Christian Bale, Emily Watson, Taye Diggs, Angu...          42.451   \n",
       "2    Jet Li, Tony Leung Chiu Wai, Maggie Cheung Man...         101.761   \n",
       "3    Patrick Swayze, Kelly Lynch, Sam Elliott, Ben ...          43.372   \n",
       "4    Denzel Washington, Chris Pine, Rosario Dawson,...          93.228   \n",
       "..                                                 ...             ...   \n",
       "135  Chow Yun-Fat, Bowie Lam, Philip Chan, Tony Leu...          96.488   \n",
       "136  Keanu Reeves, Laurence Fishburne, Carrie-Anne ...          94.059   \n",
       "137  Arnold Schwarzenegger, Linda Hamilton, Edward ...          98.529   \n",
       "138  Bruce Willis, Alan Rickman, Bonnie Bedelia, Re...          99.270   \n",
       "139  Tom Hardy, Charlize Theron, Nicholas Hoult, Hu...         114.430   \n",
       "\n",
       "                                              Synopsis  \n",
       "0    Ray and Danny (Gregory Hines, Billy Crystal) a...  \n",
       "1    In a futuristic world, a regime has eliminated...  \n",
       "2    In this visually arresting martial arts epic s...  \n",
       "3    The Double Deuce is the meanest, loudest and r...  \n",
       "4    When a massive, unmanned locomotive roars out ...  \n",
       "..                                                 ...  \n",
       "135  A cop who loses his partner in a shoot-out wit...  \n",
       "136  Neo (Keanu Reeves) believes that Morpheus (Lau...  \n",
       "137  In this sequel set eleven years after \"The Ter...  \n",
       "138  New York City policeman John McClane (Bruce Wi...  \n",
       "139  Years after the collapse of civilization, the ...  \n",
       "\n",
       "[140 rows x 8 columns]"
      ]
     },
     "execution_count": 74,
     "metadata": {},
     "output_type": "execute_result"
    }
   ],
   "source": [
    "rotten_tomato_scrape"
   ]
  },
  {
   "cell_type": "code",
   "execution_count": 75,
   "id": "6bade44a",
   "metadata": {},
   "outputs": [],
   "source": [
    "# Saving this final dataframe to a CSV file \n",
    "rotten_tomato_scrape.to_csv('Scraped_RottenTomatoes_Data.csv', index=False, encoding='utf-8')"
   ]
  }
 ],
 "metadata": {
  "kernelspec": {
   "display_name": "Python 3",
   "language": "python",
   "name": "python3"
  },
  "language_info": {
   "codemirror_mode": {
    "name": "ipython",
    "version": 3
   },
   "file_extension": ".py",
   "mimetype": "text/x-python",
   "name": "python",
   "nbconvert_exporter": "python",
   "pygments_lexer": "ipython3",
   "version": "3.7.9"
  }
 },
 "nbformat": 4,
 "nbformat_minor": 5
}
