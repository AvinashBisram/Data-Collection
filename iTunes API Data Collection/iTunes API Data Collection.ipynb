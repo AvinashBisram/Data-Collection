{
 "cells": [
  {
   "cell_type": "markdown",
   "id": "e101574b",
   "metadata": {},
   "source": [
    "# Goal"
   ]
  },
  {
   "cell_type": "code",
   "execution_count": 1,
   "id": "8dda5886",
   "metadata": {},
   "outputs": [],
   "source": [
    "# The goal of this project is to demonstrate skills in extracting and storing data from APIs"
   ]
  },
  {
   "cell_type": "code",
   "execution_count": 2,
   "id": "8df2876c",
   "metadata": {},
   "outputs": [],
   "source": [
    "# This project will be collecting data from the iTunes API.\n",
    "# Documentation: https://developer.apple.com/library/archive/documentation/AudioVideo/Conceptual/iTuneSearchAPI"
   ]
  },
  {
   "cell_type": "code",
   "execution_count": 3,
   "id": "c86f382f",
   "metadata": {},
   "outputs": [],
   "source": [
    "# Importing necessary modules\n",
    "import requests\n",
    "import json"
   ]
  },
  {
   "cell_type": "code",
   "execution_count": 4,
   "id": "ac88a5dd",
   "metadata": {},
   "outputs": [],
   "source": [
    "# Specify base route\n",
    "base_url = \"https://itunes.apple.com/search\""
   ]
  },
  {
   "cell_type": "code",
   "execution_count": 5,
   "id": "352566ee",
   "metadata": {},
   "outputs": [],
   "source": [
    "# Specify the query parameters we will be using\n",
    "params = {\n",
    "    \"term\" : \"the+beatles\", # the search text we will be querying iTunes with\n",
    "    \"country\" : \"US\", # the country code of the iTunes store we want to query\n",
    "    \"media\" : \"music\", # we only want to collect data on music\n",
    "    \"limit\" : 200 # setting a limit to how many results we want to get\n",
    "}"
   ]
  },
  {
   "cell_type": "code",
   "execution_count": 6,
   "id": "e1c7b2f6",
   "metadata": {},
   "outputs": [
    {
     "data": {
      "text/plain": [
       "200"
      ]
     },
     "execution_count": 6,
     "metadata": {},
     "output_type": "execute_result"
    }
   ],
   "source": [
    "# Make a request\n",
    "r = requests.get(base_url, params=params)\n",
    "r.status_code"
   ]
  },
  {
   "cell_type": "code",
   "execution_count": 9,
   "id": "ac50727c",
   "metadata": {},
   "outputs": [],
   "source": [
    "# Store the response\n",
    "info = r.json()"
   ]
  },
  {
   "cell_type": "markdown",
   "id": "d0d5fa1a",
   "metadata": {},
   "source": [
    "## Inspecting the structure of the response"
   ]
  },
  {
   "cell_type": "code",
   "execution_count": 12,
   "id": "c139f2bc",
   "metadata": {},
   "outputs": [],
   "source": [
    "#print(json.dumps(info,indent=4))"
   ]
  },
  {
   "cell_type": "code",
   "execution_count": 11,
   "id": "84d3776d",
   "metadata": {},
   "outputs": [
    {
     "data": {
      "text/plain": [
       "dict_keys(['resultCount', 'results'])"
      ]
     },
     "execution_count": 11,
     "metadata": {},
     "output_type": "execute_result"
    }
   ],
   "source": [
    "info.keys() # The data we want is located in 'results'"
   ]
  },
  {
   "cell_type": "code",
   "execution_count": 13,
   "id": "906e29f2",
   "metadata": {},
   "outputs": [],
   "source": [
    "# Storing the results containing relevant data in a new variable\n",
    "\n",
    "results = info['results']"
   ]
  },
  {
   "cell_type": "markdown",
   "id": "8337fff1",
   "metadata": {},
   "source": [
    "## Examining the structure of a single result"
   ]
  },
  {
   "cell_type": "code",
   "execution_count": 14,
   "id": "8520e4ee",
   "metadata": {},
   "outputs": [
    {
     "data": {
      "text/plain": [
       "{'wrapperType': 'track',\n",
       " 'kind': 'song',\n",
       " 'artistId': 136975,\n",
       " 'collectionId': 1474815798,\n",
       " 'trackId': 1474815898,\n",
       " 'artistName': 'The Beatles',\n",
       " 'collectionName': 'Abbey Road (2019 Mix)',\n",
       " 'trackName': 'Here Comes the Sun',\n",
       " 'collectionCensoredName': 'Abbey Road (2019 Mix)',\n",
       " 'trackCensoredName': 'Here Comes the Sun (2019 Mix)',\n",
       " 'artistViewUrl': 'https://music.apple.com/us/artist/the-beatles/136975?uo=4',\n",
       " 'collectionViewUrl': 'https://music.apple.com/us/album/here-comes-the-sun-2019-mix/1474815798?i=1474815898&uo=4',\n",
       " 'trackViewUrl': 'https://music.apple.com/us/album/here-comes-the-sun-2019-mix/1474815798?i=1474815898&uo=4',\n",
       " 'previewUrl': 'https://audio-ssl.itunes.apple.com/itunes-assets/AudioPreview125/v4/78/18/cc/7818cce5-1c20-1270-a9bf-b24e4be8c152/mzaf_7407478495292373909.plus.aac.p.m4a',\n",
       " 'artworkUrl30': 'https://is2-ssl.mzstatic.com/image/thumb/Music114/v4/2a/f9/04/2af904cd-f05a-d5a1-8014-c1387855b56c/source/30x30bb.jpg',\n",
       " 'artworkUrl60': 'https://is2-ssl.mzstatic.com/image/thumb/Music114/v4/2a/f9/04/2af904cd-f05a-d5a1-8014-c1387855b56c/source/60x60bb.jpg',\n",
       " 'artworkUrl100': 'https://is2-ssl.mzstatic.com/image/thumb/Music114/v4/2a/f9/04/2af904cd-f05a-d5a1-8014-c1387855b56c/source/100x100bb.jpg',\n",
       " 'collectionPrice': 9.99,\n",
       " 'trackPrice': 1.29,\n",
       " 'releaseDate': '1969-09-26T12:00:00Z',\n",
       " 'collectionExplicitness': 'notExplicit',\n",
       " 'trackExplicitness': 'notExplicit',\n",
       " 'discCount': 1,\n",
       " 'discNumber': 1,\n",
       " 'trackCount': 17,\n",
       " 'trackNumber': 7,\n",
       " 'trackTimeMillis': 185707,\n",
       " 'country': 'USA',\n",
       " 'currency': 'USD',\n",
       " 'primaryGenreName': 'Rock',\n",
       " 'isStreamable': True}"
      ]
     },
     "execution_count": 14,
     "metadata": {},
     "output_type": "execute_result"
    }
   ],
   "source": [
    "results[0]"
   ]
  },
  {
   "cell_type": "markdown",
   "id": "1d213f4a",
   "metadata": {},
   "source": [
    "## Identifying data we want to collect"
   ]
  },
  {
   "cell_type": "code",
   "execution_count": 16,
   "id": "f589a76e",
   "metadata": {},
   "outputs": [
    {
     "data": {
      "text/plain": [
       "dict_keys(['wrapperType', 'kind', 'artistId', 'collectionId', 'trackId', 'artistName', 'collectionName', 'trackName', 'collectionCensoredName', 'trackCensoredName', 'artistViewUrl', 'collectionViewUrl', 'trackViewUrl', 'previewUrl', 'artworkUrl30', 'artworkUrl60', 'artworkUrl100', 'collectionPrice', 'trackPrice', 'releaseDate', 'collectionExplicitness', 'trackExplicitness', 'discCount', 'discNumber', 'trackCount', 'trackNumber', 'trackTimeMillis', 'country', 'currency', 'primaryGenreName', 'isStreamable'])"
      ]
     },
     "execution_count": 16,
     "metadata": {},
     "output_type": "execute_result"
    }
   ],
   "source": [
    "# All keys of a result\n",
    "results[0].keys()"
   ]
  },
  {
   "cell_type": "markdown",
   "id": "1eb08421",
   "metadata": {},
   "source": [
    "We will pick a few of these keys to create lists of data from. The fields we will focus on are...\n",
    "* artistName,\n",
    "* collectionName,\n",
    "* trackName,\n",
    "* trackId,\n",
    "* trackViewUrl,\n",
    "* releaseDate,\n",
    "* primaryGenreName,\n",
    "* trackPrice, and\n",
    "* currency"
   ]
  },
  {
   "cell_type": "markdown",
   "id": "c9c2ba8d",
   "metadata": {},
   "source": [
    "# Collecting our Data"
   ]
  },
  {
   "cell_type": "markdown",
   "id": "dd29e086",
   "metadata": {},
   "source": [
    "## Artist Names"
   ]
  },
  {
   "cell_type": "code",
   "execution_count": 17,
   "id": "5dccf226",
   "metadata": {},
   "outputs": [],
   "source": [
    "artist_names = [result['artistName'] for result in results]"
   ]
  },
  {
   "cell_type": "code",
   "execution_count": 18,
   "id": "07640c71",
   "metadata": {},
   "outputs": [
    {
     "data": {
      "text/plain": [
       "200"
      ]
     },
     "execution_count": 18,
     "metadata": {},
     "output_type": "execute_result"
    }
   ],
   "source": [
    "len(artist_names) # Correct number of names"
   ]
  },
  {
   "cell_type": "code",
   "execution_count": 19,
   "id": "acc22c10",
   "metadata": {},
   "outputs": [
    {
     "data": {
      "text/plain": [
       "['The Beatles',\n",
       " 'The Beatles',\n",
       " 'The Beatles',\n",
       " 'The Beatles',\n",
       " 'The Beatles',\n",
       " 'The Beatles',\n",
       " 'The Beatles',\n",
       " 'The Beatles',\n",
       " 'The Beatles',\n",
       " 'The Beatles']"
      ]
     },
     "execution_count": 19,
     "metadata": {},
     "output_type": "execute_result"
    }
   ],
   "source": [
    "# Previewing the collected names\n",
    "\n",
    "artist_names[:10]"
   ]
  },
  {
   "cell_type": "code",
   "execution_count": 20,
   "id": "ae8e3357",
   "metadata": {},
   "outputs": [
    {
     "data": {
      "text/plain": [
       "{'The Beatles', 'The Beatles & Billy Preston'}"
      ]
     },
     "execution_count": 20,
     "metadata": {},
     "output_type": "execute_result"
    }
   ],
   "source": [
    "set(artist_names) # Looks like there are only two distinct artist names but that is fine"
   ]
  },
  {
   "cell_type": "markdown",
   "id": "d8e9fe52",
   "metadata": {},
   "source": [
    "## Collection Names"
   ]
  },
  {
   "cell_type": "code",
   "execution_count": 21,
   "id": "a3dd22e8",
   "metadata": {},
   "outputs": [],
   "source": [
    "collection_names = [result['collectionName'] for result in results]"
   ]
  },
  {
   "cell_type": "code",
   "execution_count": 22,
   "id": "0741a6fa",
   "metadata": {},
   "outputs": [
    {
     "data": {
      "text/plain": [
       "200"
      ]
     },
     "execution_count": 22,
     "metadata": {},
     "output_type": "execute_result"
    }
   ],
   "source": [
    "len(collection_names) # Correct number"
   ]
  },
  {
   "cell_type": "code",
   "execution_count": 23,
   "id": "78eeb3f2",
   "metadata": {},
   "outputs": [
    {
     "data": {
      "text/plain": [
       "['Abbey Road (2019 Mix)',\n",
       " 'Let It Be (2021 Mix)',\n",
       " 'Abbey Road (2019 Mix)',\n",
       " 'The Beatles 1967-1970 (The Blue Album)',\n",
       " '1 (2015 Version)',\n",
       " '1 (2015 Version)',\n",
       " 'The Beatles (The White Album)',\n",
       " 'Rubber Soul',\n",
       " '1 (2015 Version)',\n",
       " '1 (2015 Version)']"
      ]
     },
     "execution_count": 23,
     "metadata": {},
     "output_type": "execute_result"
    }
   ],
   "source": [
    "collection_names[:10] # Looks good"
   ]
  },
  {
   "cell_type": "markdown",
   "id": "de12d6e6",
   "metadata": {},
   "source": [
    "## Track Names"
   ]
  },
  {
   "cell_type": "code",
   "execution_count": 24,
   "id": "f7cf005c",
   "metadata": {},
   "outputs": [],
   "source": [
    "track_names = [result['trackName'] for result in results]"
   ]
  },
  {
   "cell_type": "code",
   "execution_count": 25,
   "id": "df27a4c3",
   "metadata": {},
   "outputs": [
    {
     "data": {
      "text/plain": [
       "200"
      ]
     },
     "execution_count": 25,
     "metadata": {},
     "output_type": "execute_result"
    }
   ],
   "source": [
    "len(track_names) # Correct number"
   ]
  },
  {
   "cell_type": "code",
   "execution_count": 26,
   "id": "2667d6bd",
   "metadata": {},
   "outputs": [
    {
     "data": {
      "text/plain": [
       "['Here Comes the Sun',\n",
       " 'Let It Be',\n",
       " 'Come Together',\n",
       " 'Hey Jude',\n",
       " 'Hey Jude',\n",
       " 'All You Need Is Love',\n",
       " 'Blackbird',\n",
       " 'In My Life',\n",
       " 'Yesterday',\n",
       " 'I Want to Hold Your Hand']"
      ]
     },
     "execution_count": 26,
     "metadata": {},
     "output_type": "execute_result"
    }
   ],
   "source": [
    "track_names[:10] # Looks good"
   ]
  },
  {
   "cell_type": "markdown",
   "id": "43b1d991",
   "metadata": {},
   "source": [
    "## Track IDs"
   ]
  },
  {
   "cell_type": "code",
   "execution_count": 27,
   "id": "cae78a76",
   "metadata": {},
   "outputs": [],
   "source": [
    "track_ids = [result['trackId'] for result in results]"
   ]
  },
  {
   "cell_type": "code",
   "execution_count": 28,
   "id": "1c4abd33",
   "metadata": {},
   "outputs": [
    {
     "data": {
      "text/plain": [
       "200"
      ]
     },
     "execution_count": 28,
     "metadata": {},
     "output_type": "execute_result"
    }
   ],
   "source": [
    "len(track_ids) # Correct number"
   ]
  },
  {
   "cell_type": "code",
   "execution_count": 29,
   "id": "a7f81295",
   "metadata": {},
   "outputs": [
    {
     "data": {
      "text/plain": [
       "[1474815898,\n",
       " 1582223667,\n",
       " 1474815799,\n",
       " 1441133277,\n",
       " 1440834224,\n",
       " 1440833920,\n",
       " 1441133834,\n",
       " 1441164829,\n",
       " 1440833891,\n",
       " 1440833542]"
      ]
     },
     "execution_count": 29,
     "metadata": {},
     "output_type": "execute_result"
    }
   ],
   "source": [
    "track_ids[:10]"
   ]
  },
  {
   "cell_type": "markdown",
   "id": "70529bc6",
   "metadata": {},
   "source": [
    "## Track URLs"
   ]
  },
  {
   "cell_type": "code",
   "execution_count": 30,
   "id": "ce2c6b64",
   "metadata": {},
   "outputs": [],
   "source": [
    "track_urls = [result['trackViewUrl'] for result in results]"
   ]
  },
  {
   "cell_type": "code",
   "execution_count": 31,
   "id": "f98b9b7c",
   "metadata": {},
   "outputs": [
    {
     "data": {
      "text/plain": [
       "200"
      ]
     },
     "execution_count": 31,
     "metadata": {},
     "output_type": "execute_result"
    }
   ],
   "source": [
    "len(track_urls)"
   ]
  },
  {
   "cell_type": "code",
   "execution_count": 32,
   "id": "b42ed4be",
   "metadata": {},
   "outputs": [
    {
     "data": {
      "text/plain": [
       "['https://music.apple.com/us/album/here-comes-the-sun-2019-mix/1474815798?i=1474815898&uo=4',\n",
       " 'https://music.apple.com/us/album/let-it-be-2021-mix/1582219768?i=1582223667&uo=4',\n",
       " 'https://music.apple.com/us/album/come-together-2019-mix/1474815798?i=1474815799&uo=4',\n",
       " 'https://music.apple.com/us/album/hey-jude/1441133100?i=1441133277&uo=4',\n",
       " 'https://music.apple.com/us/album/hey-jude-2015-stereo-mix/1440833098?i=1440834224&uo=4',\n",
       " 'https://music.apple.com/us/album/all-you-need-is-love-2015-stereo-mix/1440833098?i=1440833920&uo=4',\n",
       " 'https://music.apple.com/us/album/blackbird/1441133180?i=1441133834&uo=4',\n",
       " 'https://music.apple.com/us/album/in-my-life/1441164359?i=1441164829&uo=4',\n",
       " 'https://music.apple.com/us/album/yesterday-2015-stereo-mix/1440833098?i=1440833891&uo=4',\n",
       " 'https://music.apple.com/us/album/i-want-to-hold-your-hand-2015-stereo-mix/1440833098?i=1440833542&uo=4']"
      ]
     },
     "execution_count": 32,
     "metadata": {},
     "output_type": "execute_result"
    }
   ],
   "source": [
    "track_urls[:10]"
   ]
  },
  {
   "cell_type": "markdown",
   "id": "c1955057",
   "metadata": {},
   "source": [
    "## Release Dates"
   ]
  },
  {
   "cell_type": "code",
   "execution_count": 33,
   "id": "821b2f09",
   "metadata": {},
   "outputs": [],
   "source": [
    "release_dates = [result['releaseDate'] for result in results]"
   ]
  },
  {
   "cell_type": "code",
   "execution_count": 34,
   "id": "61fad54f",
   "metadata": {},
   "outputs": [
    {
     "data": {
      "text/plain": [
       "200"
      ]
     },
     "execution_count": 34,
     "metadata": {},
     "output_type": "execute_result"
    }
   ],
   "source": [
    "len(release_dates)"
   ]
  },
  {
   "cell_type": "code",
   "execution_count": 35,
   "id": "65ee3548",
   "metadata": {},
   "outputs": [
    {
     "data": {
      "text/plain": [
       "['1969-09-26T12:00:00Z',\n",
       " '2021-08-28T07:00:00Z',\n",
       " '1969-09-26T12:00:00Z',\n",
       " '1968-08-26T12:00:00Z',\n",
       " '1968-08-26T12:00:00Z',\n",
       " '1967-07-07T12:00:00Z',\n",
       " '1968-11-22T12:00:00Z',\n",
       " '1965-12-03T12:00:00Z',\n",
       " '1965-09-13T12:00:00Z',\n",
       " '1963-11-29T12:00:00Z']"
      ]
     },
     "execution_count": 35,
     "metadata": {},
     "output_type": "execute_result"
    }
   ],
   "source": [
    "release_dates[:10] # We will convert these from strings to Dates at the end"
   ]
  },
  {
   "cell_type": "markdown",
   "id": "cca60896",
   "metadata": {},
   "source": [
    "## Primary Genre Names"
   ]
  },
  {
   "cell_type": "code",
   "execution_count": 36,
   "id": "235bd1fd",
   "metadata": {},
   "outputs": [],
   "source": [
    "genre_names = [result['primaryGenreName'] for result in results]"
   ]
  },
  {
   "cell_type": "code",
   "execution_count": 37,
   "id": "57d01554",
   "metadata": {},
   "outputs": [
    {
     "data": {
      "text/plain": [
       "200"
      ]
     },
     "execution_count": 37,
     "metadata": {},
     "output_type": "execute_result"
    }
   ],
   "source": [
    "len(genre_names)"
   ]
  },
  {
   "cell_type": "code",
   "execution_count": 38,
   "id": "34f09bbf",
   "metadata": {},
   "outputs": [
    {
     "data": {
      "text/plain": [
       "['Rock',\n",
       " 'Rock',\n",
       " 'Rock',\n",
       " 'Rock',\n",
       " 'Rock',\n",
       " 'Rock',\n",
       " 'Rock',\n",
       " 'Rock',\n",
       " 'Rock',\n",
       " 'Rock']"
      ]
     },
     "execution_count": 38,
     "metadata": {},
     "output_type": "execute_result"
    }
   ],
   "source": [
    "genre_names[:10]"
   ]
  },
  {
   "cell_type": "code",
   "execution_count": 39,
   "id": "cc1cae28",
   "metadata": {},
   "outputs": [
    {
     "data": {
      "text/plain": [
       "{'Pop', 'Rock'}"
      ]
     },
     "execution_count": 39,
     "metadata": {},
     "output_type": "execute_result"
    }
   ],
   "source": [
    "set(genre_names) # There are only two distinct genre names in our current result set"
   ]
  },
  {
   "cell_type": "markdown",
   "id": "3e7ccff1",
   "metadata": {},
   "source": [
    "## Track Prices"
   ]
  },
  {
   "cell_type": "markdown",
   "id": "fd0d4556",
   "metadata": {},
   "source": [
    "Although it might be useful to combine the track prices and currencies into one value e.g. 19.99 USD, that is usually done in the data cleaning process so we will leave that be for now."
   ]
  },
  {
   "cell_type": "code",
   "execution_count": 45,
   "id": "4d9cd1a7",
   "metadata": {},
   "outputs": [],
   "source": [
    "track_prices = [result['trackPrice'] for result in results]"
   ]
  },
  {
   "cell_type": "code",
   "execution_count": 46,
   "id": "684ed3eb",
   "metadata": {},
   "outputs": [
    {
     "data": {
      "text/plain": [
       "200"
      ]
     },
     "execution_count": 46,
     "metadata": {},
     "output_type": "execute_result"
    }
   ],
   "source": [
    "len(track_prices)"
   ]
  },
  {
   "cell_type": "code",
   "execution_count": 47,
   "id": "f4fd5f95",
   "metadata": {},
   "outputs": [
    {
     "data": {
      "text/plain": [
       "[1.29, 1.29, 1.29, 1.29, 1.29, -1.0, 1.29, 1.29, 1.29, 1.29]"
      ]
     },
     "execution_count": 47,
     "metadata": {},
     "output_type": "execute_result"
    }
   ],
   "source": [
    "track_prices[:10]\n",
    "\n",
    "# It looks like we have negative values in our track prices. It might be safe to assume that the API uses -1 to indicate\n",
    "# missing data. We can clean that up later if we want to."
   ]
  },
  {
   "cell_type": "markdown",
   "id": "9f9816f5",
   "metadata": {},
   "source": [
    "### Track Currencies"
   ]
  },
  {
   "cell_type": "code",
   "execution_count": 48,
   "id": "bb689c1c",
   "metadata": {},
   "outputs": [],
   "source": [
    "track_currencies = [result['currency'] for result in results]"
   ]
  },
  {
   "cell_type": "code",
   "execution_count": 49,
   "id": "b78f80f8",
   "metadata": {},
   "outputs": [
    {
     "data": {
      "text/plain": [
       "200"
      ]
     },
     "execution_count": 49,
     "metadata": {},
     "output_type": "execute_result"
    }
   ],
   "source": [
    "len(track_currencies)"
   ]
  },
  {
   "cell_type": "code",
   "execution_count": 50,
   "id": "2fa3bc0e",
   "metadata": {},
   "outputs": [
    {
     "data": {
      "text/plain": [
       "['USD', 'USD', 'USD', 'USD', 'USD', 'USD', 'USD', 'USD', 'USD', 'USD']"
      ]
     },
     "execution_count": 50,
     "metadata": {},
     "output_type": "execute_result"
    }
   ],
   "source": [
    "track_currencies[:10]"
   ]
  },
  {
   "cell_type": "code",
   "execution_count": 51,
   "id": "9db5af63",
   "metadata": {},
   "outputs": [
    {
     "data": {
      "text/plain": [
       "{'USD'}"
      ]
     },
     "execution_count": 51,
     "metadata": {},
     "output_type": "execute_result"
    }
   ],
   "source": [
    "set(track_currencies) # Looks like the only currency in our data set is USD (probably because we specified 'country' as 'US')"
   ]
  },
  {
   "cell_type": "markdown",
   "id": "a5de62fa",
   "metadata": {},
   "source": [
    "# Creating our Data Frame"
   ]
  },
  {
   "cell_type": "code",
   "execution_count": 52,
   "id": "eca0aa4c",
   "metadata": {},
   "outputs": [],
   "source": [
    "import pandas as pd"
   ]
  },
  {
   "cell_type": "code",
   "execution_count": 53,
   "id": "dd3f4738",
   "metadata": {},
   "outputs": [],
   "source": [
    "theBeatlesData = pd.DataFrame()"
   ]
  },
  {
   "cell_type": "code",
   "execution_count": 54,
   "id": "1897e5a8",
   "metadata": {},
   "outputs": [],
   "source": [
    "# Adding our lists of data to the data frame\n",
    "theBeatlesData['Artist'] = artist_names\n",
    "theBeatlesData['Collection'] = collection_names\n",
    "theBeatlesData['Track Name'] = track_names\n",
    "theBeatlesData['Track ID'] = track_ids\n",
    "theBeatlesData['Track URL'] = track_urls\n",
    "theBeatlesData['Release Date'] = release_dates\n",
    "theBeatlesData['Genre'] = genre_names\n",
    "theBeatlesData['Track Price'] = track_prices\n",
    "theBeatlesData['Currency'] = track_currencies"
   ]
  },
  {
   "cell_type": "code",
   "execution_count": 55,
   "id": "878c2dbc",
   "metadata": {},
   "outputs": [
    {
     "data": {
      "text/html": [
       "<div>\n",
       "<style scoped>\n",
       "    .dataframe tbody tr th:only-of-type {\n",
       "        vertical-align: middle;\n",
       "    }\n",
       "\n",
       "    .dataframe tbody tr th {\n",
       "        vertical-align: top;\n",
       "    }\n",
       "\n",
       "    .dataframe thead th {\n",
       "        text-align: right;\n",
       "    }\n",
       "</style>\n",
       "<table border=\"1\" class=\"dataframe\">\n",
       "  <thead>\n",
       "    <tr style=\"text-align: right;\">\n",
       "      <th></th>\n",
       "      <th>Artist</th>\n",
       "      <th>Collection</th>\n",
       "      <th>Track Name</th>\n",
       "      <th>Track ID</th>\n",
       "      <th>Track URL</th>\n",
       "      <th>Release Date</th>\n",
       "      <th>Genre</th>\n",
       "      <th>Track Price</th>\n",
       "      <th>Currency</th>\n",
       "    </tr>\n",
       "  </thead>\n",
       "  <tbody>\n",
       "    <tr>\n",
       "      <th>0</th>\n",
       "      <td>The Beatles</td>\n",
       "      <td>Abbey Road (2019 Mix)</td>\n",
       "      <td>Here Comes the Sun</td>\n",
       "      <td>1474815898</td>\n",
       "      <td>https://music.apple.com/us/album/here-comes-th...</td>\n",
       "      <td>1969-09-26T12:00:00Z</td>\n",
       "      <td>Rock</td>\n",
       "      <td>1.29</td>\n",
       "      <td>USD</td>\n",
       "    </tr>\n",
       "    <tr>\n",
       "      <th>1</th>\n",
       "      <td>The Beatles</td>\n",
       "      <td>Let It Be (2021 Mix)</td>\n",
       "      <td>Let It Be</td>\n",
       "      <td>1582223667</td>\n",
       "      <td>https://music.apple.com/us/album/let-it-be-202...</td>\n",
       "      <td>2021-08-28T07:00:00Z</td>\n",
       "      <td>Rock</td>\n",
       "      <td>1.29</td>\n",
       "      <td>USD</td>\n",
       "    </tr>\n",
       "    <tr>\n",
       "      <th>2</th>\n",
       "      <td>The Beatles</td>\n",
       "      <td>Abbey Road (2019 Mix)</td>\n",
       "      <td>Come Together</td>\n",
       "      <td>1474815799</td>\n",
       "      <td>https://music.apple.com/us/album/come-together...</td>\n",
       "      <td>1969-09-26T12:00:00Z</td>\n",
       "      <td>Rock</td>\n",
       "      <td>1.29</td>\n",
       "      <td>USD</td>\n",
       "    </tr>\n",
       "    <tr>\n",
       "      <th>3</th>\n",
       "      <td>The Beatles</td>\n",
       "      <td>The Beatles 1967-1970 (The Blue Album)</td>\n",
       "      <td>Hey Jude</td>\n",
       "      <td>1441133277</td>\n",
       "      <td>https://music.apple.com/us/album/hey-jude/1441...</td>\n",
       "      <td>1968-08-26T12:00:00Z</td>\n",
       "      <td>Rock</td>\n",
       "      <td>1.29</td>\n",
       "      <td>USD</td>\n",
       "    </tr>\n",
       "    <tr>\n",
       "      <th>4</th>\n",
       "      <td>The Beatles</td>\n",
       "      <td>1 (2015 Version)</td>\n",
       "      <td>Hey Jude</td>\n",
       "      <td>1440834224</td>\n",
       "      <td>https://music.apple.com/us/album/hey-jude-2015...</td>\n",
       "      <td>1968-08-26T12:00:00Z</td>\n",
       "      <td>Rock</td>\n",
       "      <td>1.29</td>\n",
       "      <td>USD</td>\n",
       "    </tr>\n",
       "    <tr>\n",
       "      <th>...</th>\n",
       "      <td>...</td>\n",
       "      <td>...</td>\n",
       "      <td>...</td>\n",
       "      <td>...</td>\n",
       "      <td>...</td>\n",
       "      <td>...</td>\n",
       "      <td>...</td>\n",
       "      <td>...</td>\n",
       "      <td>...</td>\n",
       "    </tr>\n",
       "    <tr>\n",
       "      <th>195</th>\n",
       "      <td>The Beatles</td>\n",
       "      <td>A Hard Day's Night</td>\n",
       "      <td>Can't Buy Me Love</td>\n",
       "      <td>1441164423</td>\n",
       "      <td>https://music.apple.com/us/album/cant-buy-me-l...</td>\n",
       "      <td>1964-03-16T12:00:00Z</td>\n",
       "      <td>Rock</td>\n",
       "      <td>1.29</td>\n",
       "      <td>USD</td>\n",
       "    </tr>\n",
       "    <tr>\n",
       "      <th>196</th>\n",
       "      <td>The Beatles</td>\n",
       "      <td>Love</td>\n",
       "      <td>Being For the Benefit of Mr. Kite! / I Want Yo...</td>\n",
       "      <td>1441133408</td>\n",
       "      <td>https://music.apple.com/us/album/being-for-the...</td>\n",
       "      <td>2006-11-17T12:00:00Z</td>\n",
       "      <td>Rock</td>\n",
       "      <td>1.29</td>\n",
       "      <td>USD</td>\n",
       "    </tr>\n",
       "    <tr>\n",
       "      <th>197</th>\n",
       "      <td>The Beatles</td>\n",
       "      <td>Let It Be (2021 Mix)</td>\n",
       "      <td>Dig a Pony</td>\n",
       "      <td>1582221004</td>\n",
       "      <td>https://music.apple.com/us/album/dig-a-pony-20...</td>\n",
       "      <td>1970-05-08T12:00:00Z</td>\n",
       "      <td>Rock</td>\n",
       "      <td>1.29</td>\n",
       "      <td>USD</td>\n",
       "    </tr>\n",
       "    <tr>\n",
       "      <th>198</th>\n",
       "      <td>The Beatles</td>\n",
       "      <td>A Hard Day's Night</td>\n",
       "      <td>I Should Have Known Better</td>\n",
       "      <td>1441164418</td>\n",
       "      <td>https://music.apple.com/us/album/i-should-have...</td>\n",
       "      <td>1964-07-10T12:00:00Z</td>\n",
       "      <td>Rock</td>\n",
       "      <td>1.29</td>\n",
       "      <td>USD</td>\n",
       "    </tr>\n",
       "    <tr>\n",
       "      <th>199</th>\n",
       "      <td>The Beatles</td>\n",
       "      <td>A Hard Day's Night</td>\n",
       "      <td>And I Love Her</td>\n",
       "      <td>1441164421</td>\n",
       "      <td>https://music.apple.com/us/album/and-i-love-he...</td>\n",
       "      <td>1964-07-10T12:00:00Z</td>\n",
       "      <td>Rock</td>\n",
       "      <td>1.29</td>\n",
       "      <td>USD</td>\n",
       "    </tr>\n",
       "  </tbody>\n",
       "</table>\n",
       "<p>200 rows × 9 columns</p>\n",
       "</div>"
      ],
      "text/plain": [
       "          Artist                              Collection  \\\n",
       "0    The Beatles                   Abbey Road (2019 Mix)   \n",
       "1    The Beatles                    Let It Be (2021 Mix)   \n",
       "2    The Beatles                   Abbey Road (2019 Mix)   \n",
       "3    The Beatles  The Beatles 1967-1970 (The Blue Album)   \n",
       "4    The Beatles                        1 (2015 Version)   \n",
       "..           ...                                     ...   \n",
       "195  The Beatles                      A Hard Day's Night   \n",
       "196  The Beatles                                    Love   \n",
       "197  The Beatles                    Let It Be (2021 Mix)   \n",
       "198  The Beatles                      A Hard Day's Night   \n",
       "199  The Beatles                      A Hard Day's Night   \n",
       "\n",
       "                                            Track Name    Track ID  \\\n",
       "0                                   Here Comes the Sun  1474815898   \n",
       "1                                            Let It Be  1582223667   \n",
       "2                                        Come Together  1474815799   \n",
       "3                                             Hey Jude  1441133277   \n",
       "4                                             Hey Jude  1440834224   \n",
       "..                                                 ...         ...   \n",
       "195                                  Can't Buy Me Love  1441164423   \n",
       "196  Being For the Benefit of Mr. Kite! / I Want Yo...  1441133408   \n",
       "197                                         Dig a Pony  1582221004   \n",
       "198                         I Should Have Known Better  1441164418   \n",
       "199                                     And I Love Her  1441164421   \n",
       "\n",
       "                                             Track URL          Release Date  \\\n",
       "0    https://music.apple.com/us/album/here-comes-th...  1969-09-26T12:00:00Z   \n",
       "1    https://music.apple.com/us/album/let-it-be-202...  2021-08-28T07:00:00Z   \n",
       "2    https://music.apple.com/us/album/come-together...  1969-09-26T12:00:00Z   \n",
       "3    https://music.apple.com/us/album/hey-jude/1441...  1968-08-26T12:00:00Z   \n",
       "4    https://music.apple.com/us/album/hey-jude-2015...  1968-08-26T12:00:00Z   \n",
       "..                                                 ...                   ...   \n",
       "195  https://music.apple.com/us/album/cant-buy-me-l...  1964-03-16T12:00:00Z   \n",
       "196  https://music.apple.com/us/album/being-for-the...  2006-11-17T12:00:00Z   \n",
       "197  https://music.apple.com/us/album/dig-a-pony-20...  1970-05-08T12:00:00Z   \n",
       "198  https://music.apple.com/us/album/i-should-have...  1964-07-10T12:00:00Z   \n",
       "199  https://music.apple.com/us/album/and-i-love-he...  1964-07-10T12:00:00Z   \n",
       "\n",
       "    Genre  Track Price Currency  \n",
       "0    Rock         1.29      USD  \n",
       "1    Rock         1.29      USD  \n",
       "2    Rock         1.29      USD  \n",
       "3    Rock         1.29      USD  \n",
       "4    Rock         1.29      USD  \n",
       "..    ...          ...      ...  \n",
       "195  Rock         1.29      USD  \n",
       "196  Rock         1.29      USD  \n",
       "197  Rock         1.29      USD  \n",
       "198  Rock         1.29      USD  \n",
       "199  Rock         1.29      USD  \n",
       "\n",
       "[200 rows x 9 columns]"
      ]
     },
     "execution_count": 55,
     "metadata": {},
     "output_type": "execute_result"
    }
   ],
   "source": [
    "# Taking a look at our data frame\n",
    "theBeatlesData"
   ]
  },
  {
   "cell_type": "markdown",
   "id": "dd45f9c5",
   "metadata": {},
   "source": [
    "Our data looks to be in good shape. There are a few columns that might need data cleaning before being used in a machine learning application such as...\n",
    "* 'Release Date' : We might want to break this up into one column containing the yyyy-mm-dd part of the date and another column for the hh-mm-ss part (and convert those columns to DateTime dtypes). \n",
    "* 'Track Price': We saw before that at least one negative price exists (-1). Someone performing data cleaning on our dataset might want to replace those negative values with NaN (a special NumPy value used to denote missing information). They might also decide to combine the 'Track Price' and 'Currency' columns into one column as we mentioned before. "
   ]
  },
  {
   "cell_type": "markdown",
   "id": "bec5913c",
   "metadata": {},
   "source": [
    "We will refrain from doing that here as this project focuses primarily on data collection. We want to keep our collected data as raw as possible and let the cleaning/transformation decisions be made in relation to specific projects or applications."
   ]
  },
  {
   "cell_type": "markdown",
   "id": "22436366",
   "metadata": {},
   "source": [
    "# Saving and Exporting our Data"
   ]
  },
  {
   "cell_type": "code",
   "execution_count": 56,
   "id": "0b516c54",
   "metadata": {},
   "outputs": [],
   "source": [
    "# Saving our collected data as a CSV file\n",
    "theBeatlesData.to_csv('iTunes_API_Data.csv', index=False, encoding='utf-8')"
   ]
  }
 ],
 "metadata": {
  "kernelspec": {
   "display_name": "Python 3",
   "language": "python",
   "name": "python3"
  },
  "language_info": {
   "codemirror_mode": {
    "name": "ipython",
    "version": 3
   },
   "file_extension": ".py",
   "mimetype": "text/x-python",
   "name": "python",
   "nbconvert_exporter": "python",
   "pygments_lexer": "ipython3",
   "version": "3.8.8"
  }
 },
 "nbformat": 4,
 "nbformat_minor": 5
}
